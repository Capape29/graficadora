{
  "nbformat": 4,
  "nbformat_minor": 0,
  "metadata": {
    "colab": {
      "provenance": [],
      "authorship_tag": "ABX9TyPI1JOPQQjbcp7sETECsk4M",
      "include_colab_link": true
    },
    "kernelspec": {
      "name": "python3",
      "display_name": "Python 3"
    },
    "language_info": {
      "name": "python"
    }
  },
  "cells": [
    {
      "cell_type": "markdown",
      "metadata": {
        "id": "view-in-github",
        "colab_type": "text"
      },
      "source": [
        "<a href=\"https://colab.research.google.com/github/Capape29/graficadora/blob/main/graficadora.ipynb\" target=\"_parent\"><img src=\"https://colab.research.google.com/assets/colab-badge.svg\" alt=\"Open In Colab\"/></a>"
      ]
    },
    {
      "cell_type": "code",
      "execution_count": null,
      "metadata": {
        "id": "FzRIJy3iK9Op"
      },
      "outputs": [],
      "source": [
        "# Bienvenido a la graficadora de funciones\n",
        "#funciones\n",
        "\"\"\"\n",
        "1. funcion lineal\n",
        "2. funcion cuadratica\n",
        "3. funcion cubica\n",
        "4. funcion exponencial\n",
        "5. funcion logaritmica\n",
        "6. funcion trigonometrica\n",
        "\"\"\"\n"
      ]
    },
    {
      "cell_type": "code",
      "source": [
        "import numpy as np\n",
        "import matplotlib.pyplot as plt"
      ],
      "metadata": {
        "id": "BDo7WqDANGij"
      },
      "execution_count": 7,
      "outputs": []
    },
    {
      "cell_type": "code",
      "source": [
        "# Menu\n",
        "print(\"--------------------------------------\")\n",
        "print(\"----- GRAFICADORA DE FUNCIONES -------\")\n",
        "print(\"--------------------------------------\\n\")\n",
        "\n",
        "print(\"--------------------------------------\")\n",
        "print(\"FUNCIONES\")\n",
        "print(\"1. función lineal\")\n",
        "print(\"2. función cuadratica\")\n",
        "print(\"3. función cubica\")\n",
        "print(\"4. función exponencial\")\n",
        "print(\"5. función logaritmica\")\n",
        "print(\"6. función trigonometrica\")\n",
        "print(\"7. función radical\")\n",
        "print(\"8. función constante\")\n",
        "print(\"--------------------------------------\")\n",
        "\n",
        "funcion = int(input(\"\\nelija una función:\\n\"))\n",
        "\n",
        "if funcion == 1:\n",
        "  print(\"\\n--------------------------------------\")\n",
        "  print(\"---------FUNCIÓN LINEAL---------------\")\n",
        "  print(\"-----------y = mx + b-----------------\")\n",
        "  print(\"--------------------------------------\\n\")\n",
        "  \n",
        "  # Puntos de la grafica\n",
        "  N = 100\n",
        "  \n",
        "  # Crear una funcion para calcular los valores de y\n",
        "  def funcion_lineal(m, b, x):\n",
        "    return m * x + b\n",
        "\n",
        "  m = int(input(\"Digite el valor de la pendiente 'm': \"))\n",
        "  b = int(input(\"Digite el valor del punto de corte con y 'b': \"))\n",
        "\n",
        "  #processing - graphication\n",
        "  x = np.linspace(-10, 10, num = N)\n",
        "  y = funcion_lineal(m,b,x)\n",
        "\n",
        "  plt.plot(x, y, color = \"b\")\n",
        "  plt.xlabel(\"x\")\n",
        "  plt.ylabel(\"y\")\n",
        "  plt.title(\"Función lineal--> y = mx + b\")\n",
        "  plt.grid()\n",
        "  plt.axhline(y = 0, color = \"black\")\n",
        "  plt.axvline(x = 0, color = \"black\")\n",
        "  plt.show()\n",
        "\n",
        "elif funcion == 2:\n",
        "  print(\"\\n--------------------------------------\")\n",
        "  print(\"-------- FUNCIÓN CUADRATICA ----------\")\n",
        "  print(\"--------- ax² + bx + c = 0 -----------\")\n",
        "  print(\"--------------------------------------\\n\")\n",
        "\n",
        "  # Puntos de la grafica\n",
        "  N = 100\n",
        "\n",
        "  # funcion para calcular los valores de y\n",
        "  def funcion_cuadratica(a, b, c, x):\n",
        "    return a*x**2 + b*x + c\n",
        "\n",
        "  # Variables escogidas por el usuario\n",
        "  a = int(input(\"Digite el valor de 'a': \"))\n",
        "  b = int(input(\"Digite el valor de 'b': \"))\n",
        "  c = int(input(\"Digite el valor de 'c': \"))\n",
        "\n",
        "  # Processing\n",
        "  x = np.linspace(-10, 10, num = N)\n",
        "  y = funcion_cuadratica(a,b,c,x)\n",
        "\n",
        "  plt.plot(x, y, color = \"b\")\n",
        "  plt.xlabel(\"x\")\n",
        "  plt.ylabel(\"y\")\n",
        "  plt.title(\"Función cuadratica--> ax² + bx +c = 0\")\n",
        "  plt.grid()\n",
        "  plt.axhline(y = 0, color = \"black\")\n",
        "  plt.axvline(x = 0, color = \"black\")\n",
        "  plt.show()\n",
        "\n"
      ],
      "metadata": {
        "colab": {
          "base_uri": "https://localhost:8080/",
          "height": 764
        },
        "id": "v_FFytLCNTo1",
        "outputId": "e6fbef8b-85a8-4557-952d-f2e048148521"
      },
      "execution_count": 12,
      "outputs": [
        {
          "name": "stdout",
          "output_type": "stream",
          "text": [
            "--------------------------------------\n",
            "----- GRAFICADORA DE FUNCIONES -------\n",
            "--------------------------------------\n",
            "\n",
            "--------------------------------------\n",
            "FUNCIONES\n",
            "1. función lineal\n",
            "2. función cuadratica\n",
            "3. función cubica\n",
            "4. función exponencial\n",
            "5. función logaritmica\n",
            "6. función trigonometrica\n",
            "7. función radical\n",
            "8. función constante\n",
            "--------------------------------------\n",
            "\n",
            "elija una función:\n",
            "2\n",
            "\n",
            "--------------------------------------\n",
            "-------- FUNCIÓN CUADRATICA ----------\n",
            "--------- ax² + bx + c = 0 -----------\n",
            "--------------------------------------\n",
            "\n",
            "Digite el valor de 'a': 2\n",
            "Digite el valor de 'b': 1\n",
            "Digite el valor de 'c': 3\n"
          ]
        },
        {
          "output_type": "display_data",
          "data": {
            "text/plain": [
              "<Figure size 432x288 with 1 Axes>"
            ],
            "image/png": "[encoded data removed]"
          },
          "metadata": {
            "needs_background": "light"
          }
        }
      ]
    }
  ]
}