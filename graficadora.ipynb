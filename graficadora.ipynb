{
  "nbformat": 4,
  "nbformat_minor": 0,
  "metadata": {
    "colab": {
      "provenance": [],
      "authorship_tag": "ABX9TyMghm2BpW7KUKjloRavgaQS",
      "include_colab_link": true
    },
    "kernelspec": {
      "name": "python3",
      "display_name": "Python 3"
    },
    "language_info": {
      "name": "python"
    }
  },
  "cells": [
    {
      "cell_type": "markdown",
      "metadata": {
        "id": "view-in-github",
        "colab_type": "text"
      },
      "source": [
        "<a href=\"https://colab.research.google.com/github/Capape29/graficadora/blob/main/graficadora.ipynb\" target=\"_parent\"><img src=\"https://colab.research.google.com/assets/colab-badge.svg\" alt=\"Open In Colab\"/></a>"
      ]
    },
    {
      "cell_type": "code",
      "execution_count": null,
      "metadata": {
        "id": "FzRIJy3iK9Op"
      },
      "outputs": [],
      "source": [
        "# Bienvenido a la graficadora de funciones\n",
        "#funciones\n",
        "\"\"\"\n",
        "1. funcion lineal\n",
        "2. funcion cuadratica\n",
        "3. funcion cubica\n",
        "4. funcion exponencial\n",
        "5. funcion logaritmica\n",
        "6. funcion trigonometrica\n",
        "\"\"\"\n"
      ]
    },
    {
      "cell_type": "code",
      "source": [
        "import numpy as np\n",
        "import matplotlib.pyplot as plt"
      ],
      "metadata": {
        "id": "BDo7WqDANGij"
      },
      "execution_count": 7,
      "outputs": []
    },
    {
      "cell_type": "code",
      "source": [
        "# Menu\n",
        "print(\"--------------------------------------\")\n",
        "print(\"----- GRAFICADORA DE FUNCIONES -------\")\n",
        "print(\"--------------------------------------\\n\")\n",
        "\n",
        "print(\"--------------------------------------\")\n",
        "print(\"FUNCIONES\")\n",
        "print(\"1. función lineal\")\n",
        "print(\"2. función cuadratica\")\n",
        "print(\"3. función cubica\")\n",
        "print(\"4. función exponencial\")\n",
        "print(\"5. función logaritmica\")\n",
        "print(\"6. función trigonometrica\")\n",
        "print(\"7. función radical\")\n",
        "print(\"8. función constante\")\n",
        "print(\"--------------------------------------\")\n",
        "\n",
        "funcion = int(input(\"\\nelija una función:\\n\"))\n",
        "\n",
        "if funcion == 1:\n",
        "  print(\"\\n--------------------------------------\")\n",
        "  print(\"---------FUNCION LINEAL---------------\")\n",
        "  print(\"-----------y = mx + b-----------------\")\n",
        "  print(\"--------------------------------------\\n\")\n",
        "  \n",
        "  N = 100\n",
        "  \n",
        "  # Crear una funcion para calcular los valores de y\n",
        "  def funcion_lineal(m, b, x):\n",
        "    return m * x + b\n",
        "\n",
        "  m = int(input(\"Digite el valor de la pendiente 'm': \"))\n",
        "  b = int(input(\"Digite el valor del punto de corte con y 'b': \"))\n",
        "\n",
        "  #processing - graphication\n",
        "  x = np.linspace(-10, 10, num = N)\n",
        "  y = funcion_lineal(m,b,x)\n",
        "\n",
        "  plt.plot(x, y, color = \"b\")\n",
        "  plt.xlabel(\"x\")\n",
        "  plt.ylabel(\"y\")\n",
        "  plt.title(\"Función lineal--> y = mx + b\")\n",
        "  plt.grid()\n",
        "  plt.axhline(y = 0, color = \"black\")\n",
        "  plt.axvline(x = 0, color = \"black\")\n",
        "  plt.show()\n",
        "\n",
        "  \n"
      ],
      "metadata": {
        "id": "v_FFytLCNTo1"
      },
      "execution_count": null,
      "outputs": []
    }
  ]
}